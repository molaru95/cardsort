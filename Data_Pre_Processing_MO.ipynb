{
  "nbformat": 4,
  "nbformat_minor": 0,
  "metadata": {
    "kernelspec": {
      "display_name": "Python 3",
      "language": "python",
      "name": "python3"
    },
    "language_info": {
      "codemirror_mode": {
        "name": "ipython",
        "version": 3
      },
      "file_extension": ".py",
      "mimetype": "text/x-python",
      "name": "python",
      "nbconvert_exporter": "python",
      "pygments_lexer": "ipython3",
      "version": "3.7.7"
    },
    "colab": {
      "name": "Data Pre Processing_MO.ipynb",
      "provenance": [],
      "collapsed_sections": [
        "lKaCvVLLvEdx"
      ],
      "toc_visible": true,
      "include_colab_link": true
    }
  },
  "cells": [
    {
      "cell_type": "markdown",
      "metadata": {
        "id": "view-in-github",
        "colab_type": "text"
      },
      "source": [
        "<a href=\"https://colab.research.google.com/github/003084-K/cardsort/blob/Preprocessing/Data_Pre_Processing_MO.ipynb\" target=\"_parent\"><img src=\"https://colab.research.google.com/assets/colab-badge.svg\" alt=\"Open In Colab\"/></a>"
      ]
    },
    {
      "cell_type": "code",
      "metadata": {
        "id": "bHDV5B20NauO",
        "colab_type": "code",
        "colab": {}
      },
      "source": [
        "import pandas as pd\n",
        "import numpy as np\n",
        "import matplotlib.pyplot as plt\n",
        "import seaborn as sns\n",
        "import pickle\n",
        "import random\n",
        "import itertools\n",
        "\n",
        "import torch\n",
        "import torch.nn as nn\n",
        "import torch.nn.functional as F\n",
        "import torch.optim as optim\n",
        "\n",
        "import torchvision\n",
        "from torchvision import datasets, transforms\n",
        "\n",
        "%matplotlib inline \n",
        "\n",
        "use_cuda = False\n",
        "device = torch.device(\"cuda\" if use_cuda else \"cpu\")"
      ],
      "execution_count": 0,
      "outputs": []
    },
    {
      "cell_type": "markdown",
      "metadata": {
        "id": "lKaCvVLLvEdx",
        "colab_type": "text"
      },
      "source": [
        "## Data Generation"
      ]
    },
    {
      "cell_type": "markdown",
      "metadata": {
        "id": "CHY0b4caNauU",
        "colab_type": "text"
      },
      "source": [
        "Convention for mock data:\n",
        "\n",
        "Row 1 = shape  \n",
        "Row 2 = number  \n",
        "Row 3 = color"
      ]
    },
    {
      "cell_type": "code",
      "metadata": {
        "id": "FP-4IL2BNauV",
        "colab_type": "code",
        "colab": {}
      },
      "source": [
        "# Make 1-hot encoded numpy array for each card\n",
        "card_list = np.zeros((64,3,4))"
      ],
      "execution_count": 0,
      "outputs": []
    },
    {
      "cell_type": "code",
      "metadata": {
        "id": "yWckwxQ9NauY",
        "colab_type": "code",
        "outputId": "21796218-2dc7-457d-ff24-68f323542442",
        "colab": {
          "base_uri": "https://localhost:8080/",
          "height": 34
        }
      },
      "source": [
        "card_list.shape"
      ],
      "execution_count": 68,
      "outputs": [
        {
          "output_type": "execute_result",
          "data": {
            "text/plain": [
              "(64, 3, 4)"
            ]
          },
          "metadata": {
            "tags": []
          },
          "execution_count": 68
        }
      ]
    },
    {
      "cell_type": "code",
      "metadata": {
        "id": "hb731u_LNauc",
        "colab_type": "code",
        "colab": {}
      },
      "source": [
        "for i, (shape, number, color) in enumerate(itertools.product(range(0,4), range(0,4), range(0,4))):\n",
        "    card_list[i][0][shape] = 1\n",
        "    card_list[i][1][number] = 1\n",
        "    card_list[i][2][color] = 1"
      ],
      "execution_count": 0,
      "outputs": []
    },
    {
      "cell_type": "code",
      "metadata": {
        "id": "7Q0TvwInNaun",
        "colab_type": "code",
        "outputId": "8cd37896-9638-46d4-c07f-8f9d362b3f5b",
        "colab": {
          "base_uri": "https://localhost:8080/",
          "height": 578
        }
      },
      "source": [
        "f, ax = plt.subplots(nrows=8, ncols=8, figsize=[10,10])\n",
        "for i in range(0, card_list.shape[0]):\n",
        "    ax.flatten()[i].imshow(card_list[i])\n",
        "# plt.tight_layout()\n",
        "plt.show() "
      ],
      "execution_count": 70,
      "outputs": [
        {
          "output_type": "display_data",
          "data": {
            "image/png": "[encoded data removed]",
            "text/plain": [
              "<Figure size 720x720 with 64 Axes>"
            ]
          },
          "metadata": {
            "tags": [],
            "needs_background": "light"
          }
        }
      ]
    },
    {
      "cell_type": "code",
      "metadata": {
        "id": "SqLUrOV9dI_s",
        "colab_type": "code",
        "colab": {}
      },
      "source": [
        "# goal: be able to randomly sample from all possible sets of cards as quickly as possible\n",
        "# solution: pre-determine all possible combinations of cards given each test card and store for future stochastic sampling\n",
        "# we can randomly shuffle the order of cards in a given set when generating batches"
      ],
      "execution_count": 0,
      "outputs": []
    },
    {
      "cell_type": "code",
      "metadata": {
        "id": "7T6GOy3awPu3",
        "colab_type": "code",
        "colab": {}
      },
      "source": [
        "sets = []\n",
        "\n",
        "# for each probe card, determine all possible sets\n",
        "for p_card in card_list:\n",
        "  # first determine all cards matching in shape (but not other features)\n",
        "  for s_card in card_list:\n",
        "    if (np.sum((s_card==p_card),axis=1)==(4,2,2)).all():\n",
        "      # for each card that matches in number (but not other features) that doesn't share features with shapecard\n",
        "      for n_card in card_list:\n",
        "        if (np.sum((n_card==p_card),axis=1)==(2,4,2)).all() and (np.sum((n_card==s_card),axis=1)==(2,2,2)).all():\n",
        "          # for each card that matches in color (but not other features) that doesn't share features with shapecard or numcard\n",
        "          for c_card in card_list:\n",
        "            if (np.sum((c_card==p_card),axis=1)==(2,2,4)).all() and (np.sum((c_card==s_card),axis=1)==(2,2,2)).all() and (np.sum((c_card==n_card),axis=1)==(2,2,2)).all():\n",
        "            # for each card that matches in no features that doesn't share features with shapecard or numcard or colorcard\n",
        "              for no_card in card_list:\n",
        "                if (np.sum((no_card==p_card),axis=1)==(2,2,2)).all() and (np.sum((no_card==s_card),axis=1)==(2,2,2)).all() and (np.sum((no_card==n_card),axis=1)==(2,2,2)).all() and (np.sum((no_card==c_card),axis=1)==(2,2,2)).all():\n",
        "                # save whole set\n",
        "                  sets.append((s_card,n_card,c_card,no_card,p_card))\n",
        "\n",
        "sets = np.array(sets)"
      ],
      "execution_count": 0,
      "outputs": []
    },
    {
      "cell_type": "code",
      "metadata": {
        "id": "G2IWV4XWxLFy",
        "colab_type": "code",
        "outputId": "29ba9049-13bd-4390-cead-07e1d8197cec",
        "colab": {
          "base_uri": "https://localhost:8080/",
          "height": 34
        }
      },
      "source": [
        "sets.shape"
      ],
      "execution_count": 73,
      "outputs": [
        {
          "output_type": "execute_result",
          "data": {
            "text/plain": [
              "(13824, 5, 3, 4)"
            ]
          },
          "metadata": {
            "tags": []
          },
          "execution_count": 73
        }
      ]
    },
    {
      "cell_type": "code",
      "metadata": {
        "id": "wKcZ7FGPbhFL",
        "colab_type": "code",
        "colab": {}
      },
      "source": [
        "#print(sets[0:9])\n",
        "#print(sets[0:9,:,:,:])\n"
      ],
      "execution_count": 0,
      "outputs": []
    },
    {
      "cell_type": "markdown",
      "metadata": {
        "id": "X_q5D_P5OnGD",
        "colab_type": "text"
      },
      "source": [
        "# Preprocessing"
      ]
    },
    {
      "cell_type": "markdown",
      "metadata": {
        "id": "rsVGcu7RVtZU",
        "colab_type": "text"
      },
      "source": [
        "\n",
        "1.   Split data: train/validation/testing\n",
        "2.   Create rule & labels\n",
        "3.   Create a DataLoader"
      ]
    },
    {
      "cell_type": "markdown",
      "metadata": {
        "id": "wzdCVrsi2PBG",
        "colab_type": "text"
      },
      "source": [
        "### Split Data"
      ]
    },
    {
      "cell_type": "code",
      "metadata": {
        "id": "cAB4QZckxJfn",
        "colab_type": "code",
        "colab": {}
      },
      "source": [
        "#Proportions of dataset to allocate to training, validation, testing\n",
        "TRAIN_PERC = 0.90\n",
        "VALID_PERC = 0.05\n",
        "TEST_PERC = 1 - TRAIN_PERC - VALID_PERC"
      ],
      "execution_count": 0,
      "outputs": []
    },
    {
      "cell_type": "code",
      "metadata": {
        "id": "_cKwwy_fzKrE",
        "colab_type": "code",
        "colab": {}
      },
      "source": [
        "# Allocate proportions of dataset: 90% training, 5% validation, 5% testing\n",
        "train_indx_start = 0 \n",
        "valid_indx_start = round(sets.shape[0]*TRAIN_PERC)\n",
        "test_indx_start  = valid_indx_start + round(sets.shape[0]*VALID_PERC)\n",
        "test_indx_end = len(sets)"
      ],
      "execution_count": 0,
      "outputs": []
    },
    {
      "cell_type": "code",
      "metadata": {
        "id": "04wl7Lwgdrjg",
        "colab_type": "code",
        "colab": {}
      },
      "source": [
        "sets_train = sets[train_indx_start:(valid_indx_start)]\n",
        "sets_valid = sets[valid_indx_start:(test_indx_start)]\n",
        "sets_test = sets[test_indx_start:len(sets)]"
      ],
      "execution_count": 0,
      "outputs": []
    },
    {
      "cell_type": "code",
      "metadata": {
        "id": "PbgBGE2i0cE2",
        "colab_type": "code",
        "colab": {
          "base_uri": "https://localhost:8080/",
          "height": 68
        },
        "outputId": "ece98057-fbe6-473f-9347-42898ccb711e"
      },
      "source": [
        "print('Training size: ', sets_train.shape[0])\n",
        "print('Validation size: ', sets_valid.shape[0])\n",
        "print('Test size: ', sets_test.shape[0])"
      ],
      "execution_count": 253,
      "outputs": [
        {
          "output_type": "stream",
          "text": [
            "Training size:  12442\n",
            "Validation size:  691\n",
            "Test size:  691\n"
          ],
          "name": "stdout"
        }
      ]
    },
    {
      "cell_type": "markdown",
      "metadata": {
        "id": "EeJ4dOon2UYl",
        "colab_type": "text"
      },
      "source": [
        "### Create labels"
      ]
    },
    {
      "cell_type": "code",
      "metadata": {
        "id": "TUMyY83B1F34",
        "colab_type": "code",
        "colab": {}
      },
      "source": [
        "#Set the row/feature to match reference-probe\n",
        "MATCH_FEATURE = 0"
      ],
      "execution_count": 0,
      "outputs": []
    },
    {
      "cell_type": "code",
      "metadata": {
        "id": "cYHxjdTZ0DTo",
        "colab_type": "code",
        "colab": {}
      },
      "source": [
        "#Create manual labels\n",
        "train_label_man = np.zeros((4,1)) #instantiate\n",
        "train_label_man[MATCH_FEATURE] = 1"
      ],
      "execution_count": 0,
      "outputs": []
    },
    {
      "cell_type": "code",
      "metadata": {
        "id": "FcwPw9D12arH",
        "colab_type": "code",
        "colab": {}
      },
      "source": [
        "#Generate label from each reference-probe set\n",
        "train_reference = sets_train[:,0:4,:,:]\n",
        "train_probe = sets_train[:,-1,:,:]\n",
        "\n",
        "train_label = np.zeros((len(train_probe),4,1))\n",
        "\n",
        "#Sanity Check: \n",
        "# 1. each set contains a match\n",
        "# 2. each match is expected card\n",
        "\n",
        "## Note - Could make function to output labels for train, valid & test sets\n",
        "QC = 'pass'\n",
        "for i in range(train_probe.shape[0]):\n",
        "  label = np.zeros((4, 1)) #instantiate one-hot label\n",
        "  match_exists = False\n",
        "  match_card = False\n",
        "  for ii in range(4):\n",
        "    if sum(train_reference[i][ii][MATCH_FEATURE] == \n",
        "           train_probe[i][MATCH_FEATURE]) == 4:\n",
        "        label[ii] = 1 #one-hot encoding of matched row\n",
        "        train_label[i] = label #append label vector\n",
        "        match_exists = True\n",
        "    #Error if matches not generated as expected\n",
        "    if (label == train_label_man).all:\n",
        "        match_card = True\n",
        "    elif ii == 3 & match_exists == False: \n",
        "        print(\"error, no match for index: \", i)\n",
        "        QC = 'fail'\n",
        "    elif ii == 3 & match_card == False:\n",
        "        print(\"error, card match is not expected row for index: \", i)\n",
        "        QC = 'fail'\n",
        "  if i == train_probe.shape[0]-1:\n",
        "    print(\"Matching QC:\", QC)"
      ],
      "execution_count": 0,
      "outputs": []
    },
    {
      "cell_type": "code",
      "metadata": {
        "id": "XRQ78_kGm--D",
        "colab_type": "code",
        "colab": {}
      },
      "source": [
        "# Add labels to each dataset\n",
        "\n",
        "# Load necessary Pytorch packages\n",
        "from torch.utils.data import DataLoader, TensorDataset\n",
        "from torch import Tensor\n",
        "\n",
        "# Create dataset from several tensors with matching first dimension\n",
        "# Samples will be drawn from the first dimension (rows)\n",
        "train_dataset = TensorDataset(Tensor(sets_train), Tensor(train_label))\n",
        "valid_dataset = TensorDataset(Tensor(sets_valid), Tensor(train_label[0:len(sets_valid)]))\n",
        "test_dataset = TensorDataset(Tensor(sets_test), Tensor(train_label[0:len(sets_test)]))"
      ],
      "execution_count": 0,
      "outputs": []
    },
    {
      "cell_type": "markdown",
      "metadata": {
        "id": "NbGYTU2e1yGp",
        "colab_type": "text"
      },
      "source": [
        "###Instantiate Dataloader"
      ]
    },
    {
      "cell_type": "code",
      "metadata": {
        "id": "waB_y81Hh228",
        "colab_type": "code",
        "colab": {}
      },
      "source": [
        "BATCH_SIZE = 100\n",
        "NUM_WORKERS = 4"
      ],
      "execution_count": 0,
      "outputs": []
    },
    {
      "cell_type": "code",
      "metadata": {
        "id": "eh3qPQoEqiOh",
        "colab_type": "code",
        "colab": {}
      },
      "source": [
        "# Create a data loader from the dataset\n",
        "# Type of sampling and batch size are specified at this step\n",
        "train_loader = DataLoader(\n",
        "    train_dataset,\n",
        "    batch_size= BATCH_SIZE,\n",
        "    shuffle=True,\n",
        "    num_workers = NUM_WORKERS)\n",
        "\n",
        "valid_loader = DataLoader(\n",
        "    valid_dataset,\n",
        "    batch_size= BATCH_SIZE,\n",
        "    shuffle=True,\n",
        "    num_workers = NUM_WORKERS)\n",
        "\n",
        "test_loader = DataLoader(\n",
        "    test_dataset,\n",
        "    batch_size= BATCH_SIZE,\n",
        "    shuffle=False,\n",
        "    num_workers = NUM_WORKERS)"
      ],
      "execution_count": 0,
      "outputs": []
    },
    {
      "cell_type": "code",
      "metadata": {
        "id": "jcpSMIBxmCXs",
        "colab_type": "code",
        "colab": {
          "base_uri": "https://localhost:8080/",
          "height": 391
        },
        "outputId": "459944df-e6af-4ef2-a4b7-e574c567fb29"
      },
      "source": [
        "print(train_loader.dataset[1])"
      ],
      "execution_count": 261,
      "outputs": [
        {
          "output_type": "stream",
          "text": [
            "(tensor([[[1., 0., 0., 0.],\n",
            "         [0., 1., 0., 0.],\n",
            "         [0., 1., 0., 0.]],\n",
            "\n",
            "        [[0., 1., 0., 0.],\n",
            "         [1., 0., 0., 0.],\n",
            "         [0., 0., 1., 0.]],\n",
            "\n",
            "        [[0., 0., 1., 0.],\n",
            "         [0., 0., 0., 1.],\n",
            "         [1., 0., 0., 0.]],\n",
            "\n",
            "        [[0., 0., 0., 1.],\n",
            "         [0., 0., 1., 0.],\n",
            "         [0., 0., 0., 1.]],\n",
            "\n",
            "        [[1., 0., 0., 0.],\n",
            "         [1., 0., 0., 0.],\n",
            "         [1., 0., 0., 0.]]]), tensor([[1.],\n",
            "        [0.],\n",
            "        [0.],\n",
            "        [0.]]))\n"
          ],
          "name": "stdout"
        }
      ]
    },
    {
      "cell_type": "code",
      "metadata": {
        "id": "rPyy_eqJmO1H",
        "colab_type": "code",
        "colab": {}
      },
      "source": [
        "batch, classes = next(iter(train_loader))"
      ],
      "execution_count": 0,
      "outputs": []
    },
    {
      "cell_type": "code",
      "metadata": {
        "id": "ykNYtbOatJAk",
        "colab_type": "code",
        "colab": {
          "base_uri": "https://localhost:8080/",
          "height": 34
        },
        "outputId": "11b14873-ecf5-4062-da5b-cb3aa02fd39b"
      },
      "source": [
        "batch.shape"
      ],
      "execution_count": 263,
      "outputs": [
        {
          "output_type": "execute_result",
          "data": {
            "text/plain": [
              "torch.Size([100, 5, 3, 4])"
            ]
          },
          "metadata": {
            "tags": []
          },
          "execution_count": 263
        }
      ]
    },
    {
      "cell_type": "code",
      "metadata": {
        "id": "FdaKGrSmtMYf",
        "colab_type": "code",
        "colab": {
          "base_uri": "https://localhost:8080/",
          "height": 34
        },
        "outputId": "403e069f-e3b8-4364-9180-8cd97de6a3b5"
      },
      "source": [
        "batch.shape, classes.shape"
      ],
      "execution_count": 264,
      "outputs": [
        {
          "output_type": "execute_result",
          "data": {
            "text/plain": [
              "(torch.Size([100, 5, 3, 4]), torch.Size([100, 4, 1]))"
            ]
          },
          "metadata": {
            "tags": []
          },
          "execution_count": 264
        }
      ]
    },
    {
      "cell_type": "code",
      "metadata": {
        "id": "HSw-ER4ktP9N",
        "colab_type": "code",
        "colab": {
          "base_uri": "https://localhost:8080/",
          "height": 205
        },
        "outputId": "e3770af8-fa47-43d7-8237-9f3cacd41b8e"
      },
      "source": [
        "example = 10\n",
        "print('Match rule/row: ', MATCH_FEATURE) #display matching rule\n",
        "print('Label:', classes[example]) # display the digit label\n",
        "\n",
        "#Plot the image\n",
        "f, ax = plt.subplots(nrows=1, ncols=5, figsize=[10,10])\n",
        "for i in range(0,np.squeeze(batch)[example].shape[0]):\n",
        "    ax.flatten()[i].imshow(np.squeeze(batch)[example][i])\n",
        "\n",
        "plt.show() \n"
      ],
      "execution_count": 265,
      "outputs": [
        {
          "output_type": "stream",
          "text": [
            "Match rule/row:  0\n",
            "Label: tensor([[1.],\n",
            "        [0.],\n",
            "        [0.],\n",
            "        [0.]])\n"
          ],
          "name": "stdout"
        },
        {
          "output_type": "display_data",
          "data": {
            "image/png": "[encoded data removed]",
            "text/plain": [
              "<Figure size 720x720 with 5 Axes>"
            ]
          },
          "metadata": {
            "tags": [],
            "needs_background": "light"
          }
        }
      ]
    },
    {
      "cell_type": "markdown",
      "metadata": {
        "id": "-bw7YwxYvLy7",
        "colab_type": "text"
      },
      "source": [
        "# Architecture"
      ]
    },
    {
      "cell_type": "code",
      "metadata": {
        "id": "50qY8vmWvJZb",
        "colab_type": "code",
        "colab": {}
      },
      "source": [
        "class MultiNet(nn.Module):\n",
        "    def __init__(self):\n",
        "        super(MultiNet, self).__init__()\n",
        "\n",
        "        # determine encoding for a card\n",
        "        self.encoding = nn.Sequential(nn.Linear(12, 6), # single card has 12 features\n",
        "                                nn.ReLU(),  # Do we need this nonlinearity? can't this network be a single layer from 12 to 2?\n",
        "                                nn.Linear(6, 2))\n",
        "\n",
        "\n",
        "    def forward(self, x):\n",
        "        c1_fs = self.encoding(x[0])\n",
        "        c2_fs = self.encoding(x[1])\n",
        "        c3_fs = self.encoding(x[2])\n",
        "        c4_fs = self.encoding(x[3])\n",
        "        p_fs = self.encoding(x[4])\n",
        "\n",
        "        dists = (torch.dist(p_fs, c1_fs), torch.dist(p_fs, c2_fs), torch.dist(p_fs, c3_fs), torch.dist(p_fs, c4_fs)) # compare each feature representation to that of probe card\n",
        "\n",
        "        return F.log_softmax(-dists)    # softmax of negative distance means things closer have larger confidence\n",
        "        # network should learn to ignore all features except match feature in generating feature representations"
      ],
      "execution_count": 0,
      "outputs": []
    }
  ]
}
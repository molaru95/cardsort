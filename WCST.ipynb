{
  "nbformat": 4,
  "nbformat_minor": 0,
  "metadata": {
    "kernelspec": {
      "display_name": "Python 3",
      "language": "python",
      "name": "python3"
    },
    "language_info": {
      "codemirror_mode": {
        "name": "ipython",
        "version": 3
      },
      "file_extension": ".py",
      "mimetype": "text/x-python",
      "name": "python",
      "nbconvert_exporter": "python",
      "pygments_lexer": "ipython3",
      "version": "3.7.7"
    },
    "colab": {
      "name": "Data Pre Processing.ipynb",
      "provenance": [],
      "include_colab_link": true
    }
  },
  "cells": [
    {
      "cell_type": "markdown",
      "metadata": {
        "id": "view-in-github",
        "colab_type": "text"
      },
      "source": [
        "<a href=\"https://colab.research.google.com/github/003084-K/cardsort/blob/Architecture/WCST.ipynb\" target=\"_parent\"><img src=\"https://colab.research.google.com/assets/colab-badge.svg\" alt=\"Open In Colab\"/></a>"
      ]
    },
    {
      "cell_type": "code",
      "metadata": {
        "id": "bHDV5B20NauO",
        "colab_type": "code",
        "colab": {}
      },
      "source": [
        "import pandas as pd\n",
        "import numpy as np\n",
        "import matplotlib.pyplot as plt\n",
        "import seaborn as sns\n",
        "import pickle\n",
        "import random\n",
        "import itertools\n",
        "\n",
        "import torch\n",
        "import torch.nn as nn\n",
        "import torch.nn.functional as F\n",
        "import torch.optim as optim\n",
        "\n",
        "import torchvision\n",
        "from torchvision import datasets, transforms\n",
        "\n",
        "%matplotlib inline \n",
        "\n",
        "use_cuda = False\n",
        "device = torch.device(\"cuda\" if use_cuda else \"cpu\")"
      ],
      "execution_count": 0,
      "outputs": []
    },
    {
      "cell_type": "markdown",
      "metadata": {
        "id": "lKaCvVLLvEdx",
        "colab_type": "text"
      },
      "source": [
        "## Data Pre-Processing"
      ]
    },
    {
      "cell_type": "markdown",
      "metadata": {
        "id": "CHY0b4caNauU",
        "colab_type": "text"
      },
      "source": [
        "Convention for mock data:\n",
        "\n",
        "Row 1 = shape  \n",
        "Row 2 = number  \n",
        "Row 3 = color"
      ]
    },
    {
      "cell_type": "code",
      "metadata": {
        "id": "FP-4IL2BNauV",
        "colab_type": "code",
        "colab": {}
      },
      "source": [
        "# Make 1-hot encoded numpy array for each card\n",
        "card_list = np.zeros((64,3,4))"
      ],
      "execution_count": 0,
      "outputs": []
    },
    {
      "cell_type": "code",
      "metadata": {
        "id": "yWckwxQ9NauY",
        "colab_type": "code",
        "outputId": "15a627f3-4a1c-4122-82e1-7467e5f2b748",
        "colab": {
          "base_uri": "https://localhost:8080/",
          "height": 34
        }
      },
      "source": [
        "card_list.shape"
      ],
      "execution_count": 4,
      "outputs": [
        {
          "output_type": "execute_result",
          "data": {
            "text/plain": [
              "(64, 3, 4)"
            ]
          },
          "metadata": {
            "tags": []
          },
          "execution_count": 4
        }
      ]
    },
    {
      "cell_type": "code",
      "metadata": {
        "id": "hb731u_LNauc",
        "colab_type": "code",
        "colab": {}
      },
      "source": [
        "for i, (shape, number, color) in enumerate(itertools.product(range(0,4), range(0,4), range(0,4))):\n",
        "    card_list[i][0][shape] = 1\n",
        "    card_list[i][1][number] = 1\n",
        "    card_list[i][2][color] = 1"
      ],
      "execution_count": 0,
      "outputs": []
    },
    {
      "cell_type": "code",
      "metadata": {
        "scrolled": true,
        "id": "rmu8qYCPNauk",
        "colab_type": "code",
        "colab": {}
      },
      "source": [
        "card_list"
      ],
      "execution_count": 0,
      "outputs": []
    },
    {
      "cell_type": "code",
      "metadata": {
        "id": "7Q0TvwInNaun",
        "colab_type": "code",
        "outputId": "4d8a562c-fbaa-4bac-f830-9e85f81b9d8d",
        "colab": {
          "base_uri": "https://localhost:8080/",
          "height": 577
        }
      },
      "source": [
        "f, ax = plt.subplots(nrows=8, ncols=8, figsize=[10,10])\n",
        "for i in range(0, card_list.shape[0]):\n",
        "    ax.flatten()[i].imshow(card_list[i])\n",
        "# plt.tight_layout()\n",
        "plt.show() "
      ],
      "execution_count": 6,
      "outputs": [
        {
          "output_type": "display_data",
          "data": {
            "image/png": "[encoded data removed]",
            "text/plain": [
              "<Figure size 720x720 with 64 Axes>"
            ]
          },
          "metadata": {
            "tags": [],
            "needs_background": "light"
          }
        }
      ]
    },
    {
      "cell_type": "code",
      "metadata": {
        "id": "SqLUrOV9dI_s",
        "colab_type": "code",
        "colab": {}
      },
      "source": [
        "# goal: be able to randomly sample from all possible sets of cards as quickly as possible\n",
        "# solution: pre-determine all possible combinations of cards given each test card and store for future stochastic sampling\n",
        "# we can randomly shuffle the order of cards in a given set when generating batches"
      ],
      "execution_count": 0,
      "outputs": []
    },
    {
      "cell_type": "code",
      "metadata": {
        "id": "7T6GOy3awPu3",
        "colab_type": "code",
        "colab": {}
      },
      "source": [
        "sets = []\n",
        "\n",
        "# for each probe card, determine all possible sets\n",
        "for p_card in card_list:\n",
        "  # first determine all cards matching in shape (but not other features)\n",
        "  for s_card in card_list:\n",
        "    if (np.sum((s_card==p_card),axis=1)==(4,2,2)).all():\n",
        "      # for each card that matches in number (but not other features) that doesn't share features with shapecard\n",
        "      for n_card in card_list:\n",
        "        if (np.sum((n_card==p_card),axis=1)==(2,4,2)).all() and (np.sum((n_card==s_card),axis=1)==(2,2,2)).all():\n",
        "          # for each card that matches in color (but not other features) that doesn't share features with shapecard or numcard\n",
        "          for c_card in card_list:\n",
        "            if (np.sum((c_card==p_card),axis=1)==(2,2,4)).all() and (np.sum((c_card==s_card),axis=1)==(2,2,2)).all() and (np.sum((c_card==n_card),axis=1)==(2,2,2)).all():\n",
        "            # for each card that matches in no features that doesn't share features with shapecard or numcard or colorcard\n",
        "              for no_card in card_list:\n",
        "                if (np.sum((no_card==p_card),axis=1)==(2,2,2)).all() and (np.sum((no_card==s_card),axis=1)==(2,2,2)).all() and (np.sum((no_card==n_card),axis=1)==(2,2,2)).all() and (np.sum((no_card==c_card),axis=1)==(2,2,2)).all():\n",
        "                # save whole set\n",
        "                  sets.append((s_card,n_card,c_card,no_card,p_card))\n",
        "\n",
        "sets = np.array(sets)"
      ],
      "execution_count": 0,
      "outputs": []
    },
    {
      "cell_type": "code",
      "metadata": {
        "id": "G2IWV4XWxLFy",
        "colab_type": "code",
        "outputId": "1ae316e2-642b-4552-f3ae-47dcb598a989",
        "colab": {
          "base_uri": "https://localhost:8080/",
          "height": 34
        }
      },
      "source": [
        "sets.shape"
      ],
      "execution_count": 8,
      "outputs": [
        {
          "output_type": "execute_result",
          "data": {
            "text/plain": [
              "(13824, 5, 3, 4)"
            ]
          },
          "metadata": {
            "tags": []
          },
          "execution_count": 8
        }
      ]
    },
    {
      "cell_type": "markdown",
      "metadata": {
        "id": "-bw7YwxYvLy7",
        "colab_type": "text"
      },
      "source": [
        "# Architecture"
      ]
    },
    {
      "cell_type": "code",
      "metadata": {
        "id": "50qY8vmWvJZb",
        "colab_type": "code",
        "colab": {}
      },
      "source": [
        "class MultiNet(nn.Module):\n",
        "    def __init__(self):\n",
        "        super(MultiNet, self).__init__()\n",
        "\n",
        "        # determine encoding for a card\n",
        "        self.encoding = nn.Sequential(nn.Linear(12, 6), # single card has 12 features\n",
        "                                nn.ReLU(),  # Do we need this nonlinearity? can't this network be a single layer from 12 to 2?\n",
        "                                nn.Linear(6, 2))\n",
        "\n",
        "\n",
        "    def forward(self, x):\n",
        "        c1_fs = self.encoding(x[0])\n",
        "        c2_fs = self.encoding(x[1])\n",
        "        c3_fs = self.encoding(x[2])\n",
        "        c4_fs = self.encoding(x[3])\n",
        "        p_fs = self.encoding(x[4])\n",
        "\n",
        "        dists = (torch.dist(p_fs, c1_fs), torch.dist(p_fs, c2_fs), torch.dist(p_fs, c3_fs), torch.dist(p_fs, c4_fs)) # compare each feature representation to that of probe card\n",
        "\n",
        "        return F.log_softmax(-dists)    # softmax of negative distance means things closer have larger confidence\n",
        "        # network should learn to ignore all features except match feature in generating feature representations"
      ],
      "execution_count": 0,
      "outputs": []
    },
    {
      "cell_type": "markdown",
      "metadata": {
        "id": "X_q5D_P5OnGD",
        "colab_type": "text"
      },
      "source": [
        "# Training, Optimizer, Loss"
      ]
    },
    {
      "cell_type": "code",
      "metadata": {
        "id": "kHIRschMOtKe",
        "colab_type": "code",
        "colab": {}
      },
      "source": [
        ""
      ],
      "execution_count": 0,
      "outputs": []
    }
  ]
}
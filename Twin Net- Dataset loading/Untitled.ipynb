{
 "cells": [
  {
   "cell_type": "code",
   "execution_count": null,
   "metadata": {},
   "outputs": [],
   "source": [
    "# carlos dataset collection for WCST twin net\n",
    "\n",
    "#borrows kara's data\n"
   ]
  },
  {
   "cell_type": "code",
   "execution_count": null,
   "metadata": {},
   "outputs": [],
   "source": [
    "import pandas as pd\n",
    "import numpy as np\n",
    "import matplotlib.pyplot as plt\n",
    "import seaborn as sns\n",
    "import pickle\n",
    "import random\n",
    "import itertools\n"
   ]
  },
  {
   "cell_type": "code",
   "execution_count": null,
   "metadata": {},
   "outputs": [],
   "source": [
    "# Make 1-hot encoded numpy array for each card\n",
    "card_list = np.zeros((64,3,4))\n",
    "for i, (shape, number, color) in enumerate(itertools.product(range(0,4), range(0,4), range(0,4))):\n",
    "    card_list[i][0][shape] = 1\n",
    "    card_list[i][1][number] = 1\n",
    "    card_list[i][2][color] = 1\n",
    "    "
   ]
  },
  {
   "cell_type": "code",
   "execution_count": null,
   "metadata": {},
   "outputs": [],
   "source": [
    "sets = []\n",
    "\n",
    "# for each probe card, determine all possible sets\n",
    "for p_card in card_list:\n",
    "  # first determine all cards matching in shape (but not other features)\n",
    "  for s_card in card_list:\n",
    "    if (np.sum((s_card==p_card),axis=1)==(4,2,2)).all():\n",
    "      # for each card that matches in number (but not other features) that doesn't share features with shapecard\n",
    "      for n_card in card_list:\n",
    "        if (np.sum((n_card==p_card),axis=1)==(2,4,2)).all() and (np.sum((n_card==s_card),axis=1)==(2,2,2)).all():\n",
    "          # for each card that matches in color (but not other features) that doesn't share features with shapecard or numcard\n",
    "          for c_card in card_list:\n",
    "            if (np.sum((c_card==p_card),axis=1)==(2,2,4)).all() and (np.sum((c_card==s_card),axis=1)==(2,2,2)).all() and (np.sum((c_card==n_card),axis=1)==(2,2,2)).all():\n",
    "            # for each card that matches in no features that doesn't share features with shapecard or numcard or colorcard\n",
    "              for no_card in card_list:\n",
    "                if (np.sum((no_card==p_card),axis=1)==(2,2,2)).all() and (np.sum((no_card==s_card),axis=1)==(2,2,2)).all() and (np.sum((no_card==n_card),axis=1)==(2,2,2)).all() and (np.sum((no_card==c_card),axis=1)==(2,2,2)).all():\n",
    "                # save whole set\n",
    "                  sets.append((p_card,s_card,n_card,c_card,no_card))\n",
    "\n",
    "sets = np.array(sets)"
   ]
  },
  {
   "cell_type": "code",
   "execution_count": null,
   "metadata": {},
   "outputs": [],
   "source": []
  }
 ],
 "metadata": {
  "kernelspec": {
   "display_name": "Python 3",
   "language": "python",
   "name": "python3"
  },
  "language_info": {
   "codemirror_mode": {
    "name": "ipython",
    "version": 3
   },
   "file_extension": ".py",
   "mimetype": "text/x-python",
   "name": "python",
   "nbconvert_exporter": "python",
   "pygments_lexer": "ipython3",
   "version": "3.8.2"
  }
 },
 "nbformat": 4,
 "nbformat_minor": 4
}
